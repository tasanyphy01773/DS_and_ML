{
  "nbformat": 4,
  "nbformat_minor": 0,
  "metadata": {
    "colab": {
      "name": "DS_and_ML_Preprocessing.ipynb",
      "provenance": [],
      "authorship_tag": "ABX9TyMODwCvKGNgduALj5Is8zjv",
      "include_colab_link": true
    },
    "kernelspec": {
      "name": "python3",
      "display_name": "Python 3"
    },
    "language_info": {
      "name": "python"
    }
  },
  "cells": [
    {
      "cell_type": "markdown",
      "metadata": {
        "id": "view-in-github",
        "colab_type": "text"
      },
      "source": [
        "<a href=\"https://colab.research.google.com/github/tasanyphy01773/DS_and_ML/blob/main/Preprocessing.ipynb\" target=\"_parent\"><img src=\"https://colab.research.google.com/assets/colab-badge.svg\" alt=\"Open In Colab\"/></a>"
      ]
    },
    {
      "cell_type": "code",
      "metadata": {
        "id": "ZBw5DH5c2tor"
      },
      "source": [
        "import pandas as pd \n",
        "import numpy as np \n",
        "import matplotlib.pyplot as plt "
      ],
      "execution_count": null,
      "outputs": []
    },
    {
      "cell_type": "code",
      "metadata": {
        "id": "k1K7tncv2zqu"
      },
      "source": [
        "dataSet1 = pd.read_csv('/content/Data_Set.csv', header =2)\n",
        "dataSet2 = dataSet1.drop(0, axis = 0)\n",
        "dataSet3 = dataSet2.reset_index(drop = True)\n",
        "dataSet4 = dataSet3.rename(columns = {'Temperature':'Temp'})\n",
        "dataSet4 = dataSet4.rename(columns = {'No. Occupants': 'Occupants'})\n",
        "dataSet5 = dataSet4.drop('Occupants', axis = 1)"
      ],
      "execution_count": null,
      "outputs": []
    },
    {
      "cell_type": "code",
      "metadata": {
        "colab": {
          "base_uri": "https://localhost:8080/",
          "height": 204
        },
        "id": "S4xqpxvV3L9Q",
        "outputId": "3a4a7803-0507-4727-f1fe-d3af2b30e1de"
      },
      "source": [
        "dataSet1.head()"
      ],
      "execution_count": null,
      "outputs": [
        {
          "output_type": "execute_result",
          "data": {
            "text/html": [
              "<div>\n",
              "<style scoped>\n",
              "    .dataframe tbody tr th:only-of-type {\n",
              "        vertical-align: middle;\n",
              "    }\n",
              "\n",
              "    .dataframe tbody tr th {\n",
              "        vertical-align: top;\n",
              "    }\n",
              "\n",
              "    .dataframe thead th {\n",
              "        text-align: right;\n",
              "    }\n",
              "</style>\n",
              "<table border=\"1\" class=\"dataframe\">\n",
              "  <thead>\n",
              "    <tr style=\"text-align: right;\">\n",
              "      <th></th>\n",
              "      <th>Time</th>\n",
              "      <th>E_Plug</th>\n",
              "      <th>E_Heat</th>\n",
              "      <th>Price</th>\n",
              "      <th>Temperature</th>\n",
              "      <th>No. Occupants</th>\n",
              "    </tr>\n",
              "  </thead>\n",
              "  <tbody>\n",
              "    <tr>\n",
              "      <th>0</th>\n",
              "      <td>1</td>\n",
              "      <td>24.0</td>\n",
              "      <td>28</td>\n",
              "      <td>10</td>\n",
              "      <td>-15</td>\n",
              "      <td>12</td>\n",
              "    </tr>\n",
              "    <tr>\n",
              "      <th>1</th>\n",
              "      <td>2</td>\n",
              "      <td>17.0</td>\n",
              "      <td>32</td>\n",
              "      <td>12</td>\n",
              "      <td>-17</td>\n",
              "      <td>12</td>\n",
              "    </tr>\n",
              "    <tr>\n",
              "      <th>2</th>\n",
              "      <td>3</td>\n",
              "      <td>16.0</td>\n",
              "      <td>34</td>\n",
              "      <td>11</td>\n",
              "      <td>-19</td>\n",
              "      <td>12</td>\n",
              "    </tr>\n",
              "    <tr>\n",
              "      <th>3</th>\n",
              "      <td>3</td>\n",
              "      <td>16.0</td>\n",
              "      <td>34</td>\n",
              "      <td>11</td>\n",
              "      <td>-19</td>\n",
              "      <td>12</td>\n",
              "    </tr>\n",
              "    <tr>\n",
              "      <th>4</th>\n",
              "      <td>4</td>\n",
              "      <td>16.0</td>\n",
              "      <td>33</td>\n",
              "      <td>12</td>\n",
              "      <td>-18</td>\n",
              "      <td>12</td>\n",
              "    </tr>\n",
              "  </tbody>\n",
              "</table>\n",
              "</div>"
            ],
            "text/plain": [
              "   Time  E_Plug  E_Heat Price  Temperature  No. Occupants\n",
              "0     1    24.0      28    10          -15             12\n",
              "1     2    17.0      32    12          -17             12\n",
              "2     3    16.0      34    11          -19             12\n",
              "3     3    16.0      34    11          -19             12\n",
              "4     4    16.0      33    12          -18             12"
            ]
          },
          "metadata": {},
          "execution_count": 48
        }
      ]
    },
    {
      "cell_type": "code",
      "metadata": {
        "colab": {
          "base_uri": "https://localhost:8080/",
          "height": 204
        },
        "id": "0XkI58tm3dun",
        "outputId": "407128df-4d84-405c-abce-d2e02e8cb061"
      },
      "source": [
        "dataSet5.head()"
      ],
      "execution_count": null,
      "outputs": [
        {
          "output_type": "execute_result",
          "data": {
            "text/html": [
              "<div>\n",
              "<style scoped>\n",
              "    .dataframe tbody tr th:only-of-type {\n",
              "        vertical-align: middle;\n",
              "    }\n",
              "\n",
              "    .dataframe tbody tr th {\n",
              "        vertical-align: top;\n",
              "    }\n",
              "\n",
              "    .dataframe thead th {\n",
              "        text-align: right;\n",
              "    }\n",
              "</style>\n",
              "<table border=\"1\" class=\"dataframe\">\n",
              "  <thead>\n",
              "    <tr style=\"text-align: right;\">\n",
              "      <th></th>\n",
              "      <th>Time</th>\n",
              "      <th>E_Plug</th>\n",
              "      <th>E_Heat</th>\n",
              "      <th>Price</th>\n",
              "      <th>Temp</th>\n",
              "    </tr>\n",
              "  </thead>\n",
              "  <tbody>\n",
              "    <tr>\n",
              "      <th>0</th>\n",
              "      <td>2</td>\n",
              "      <td>17.0</td>\n",
              "      <td>32</td>\n",
              "      <td>12</td>\n",
              "      <td>-17</td>\n",
              "    </tr>\n",
              "    <tr>\n",
              "      <th>1</th>\n",
              "      <td>3</td>\n",
              "      <td>16.0</td>\n",
              "      <td>34</td>\n",
              "      <td>11</td>\n",
              "      <td>-19</td>\n",
              "    </tr>\n",
              "    <tr>\n",
              "      <th>2</th>\n",
              "      <td>3</td>\n",
              "      <td>16.0</td>\n",
              "      <td>34</td>\n",
              "      <td>11</td>\n",
              "      <td>-19</td>\n",
              "    </tr>\n",
              "    <tr>\n",
              "      <th>3</th>\n",
              "      <td>4</td>\n",
              "      <td>16.0</td>\n",
              "      <td>33</td>\n",
              "      <td>12</td>\n",
              "      <td>-18</td>\n",
              "    </tr>\n",
              "    <tr>\n",
              "      <th>4</th>\n",
              "      <td>5</td>\n",
              "      <td>16.0</td>\n",
              "      <td>30</td>\n",
              "      <td>10</td>\n",
              "      <td>-14</td>\n",
              "    </tr>\n",
              "  </tbody>\n",
              "</table>\n",
              "</div>"
            ],
            "text/plain": [
              "   Time  E_Plug  E_Heat Price  Temp\n",
              "0     2    17.0      32    12   -17\n",
              "1     3    16.0      34    11   -19\n",
              "2     3    16.0      34    11   -19\n",
              "3     4    16.0      33    12   -18\n",
              "4     5    16.0      30    10   -14"
            ]
          },
          "metadata": {},
          "execution_count": 49
        }
      ]
    },
    {
      "cell_type": "code",
      "metadata": {
        "id": "tukGJYWl3lQB"
      },
      "source": [
        "#spot location\n",
        "min_item = dataSet5['E_Heat'].min()\n",
        "max_item = dataSet5['E_Heat'].max()\n",
        "\n",
        "dataSet5['E_Heat'][dataSet5['E_Heat'] == min_item]\n",
        "dataSet6 = dataSet5.replace(min_item, 18) #replace data with another data"
      ],
      "execution_count": null,
      "outputs": []
    },
    {
      "cell_type": "code",
      "metadata": {
        "colab": {
          "base_uri": "https://localhost:8080/",
          "height": 204
        },
        "id": "DoMwy6iq3zaq",
        "outputId": "e3bf5868-6368-4aa1-9242-279d14a9eaac"
      },
      "source": [
        "dataSet6.head()"
      ],
      "execution_count": null,
      "outputs": [
        {
          "output_type": "execute_result",
          "data": {
            "text/html": [
              "<div>\n",
              "<style scoped>\n",
              "    .dataframe tbody tr th:only-of-type {\n",
              "        vertical-align: middle;\n",
              "    }\n",
              "\n",
              "    .dataframe tbody tr th {\n",
              "        vertical-align: top;\n",
              "    }\n",
              "\n",
              "    .dataframe thead th {\n",
              "        text-align: right;\n",
              "    }\n",
              "</style>\n",
              "<table border=\"1\" class=\"dataframe\">\n",
              "  <thead>\n",
              "    <tr style=\"text-align: right;\">\n",
              "      <th></th>\n",
              "      <th>Time</th>\n",
              "      <th>E_Plug</th>\n",
              "      <th>E_Heat</th>\n",
              "      <th>Price</th>\n",
              "      <th>Temp</th>\n",
              "    </tr>\n",
              "  </thead>\n",
              "  <tbody>\n",
              "    <tr>\n",
              "      <th>0</th>\n",
              "      <td>2</td>\n",
              "      <td>17.0</td>\n",
              "      <td>32</td>\n",
              "      <td>12</td>\n",
              "      <td>-17</td>\n",
              "    </tr>\n",
              "    <tr>\n",
              "      <th>1</th>\n",
              "      <td>3</td>\n",
              "      <td>16.0</td>\n",
              "      <td>34</td>\n",
              "      <td>11</td>\n",
              "      <td>-19</td>\n",
              "    </tr>\n",
              "    <tr>\n",
              "      <th>2</th>\n",
              "      <td>3</td>\n",
              "      <td>16.0</td>\n",
              "      <td>34</td>\n",
              "      <td>11</td>\n",
              "      <td>-19</td>\n",
              "    </tr>\n",
              "    <tr>\n",
              "      <th>3</th>\n",
              "      <td>4</td>\n",
              "      <td>16.0</td>\n",
              "      <td>33</td>\n",
              "      <td>12</td>\n",
              "      <td>-18</td>\n",
              "    </tr>\n",
              "    <tr>\n",
              "      <th>4</th>\n",
              "      <td>5</td>\n",
              "      <td>16.0</td>\n",
              "      <td>30</td>\n",
              "      <td>10</td>\n",
              "      <td>-14</td>\n",
              "    </tr>\n",
              "  </tbody>\n",
              "</table>\n",
              "</div>"
            ],
            "text/plain": [
              "   Time  E_Plug  E_Heat Price  Temp\n",
              "0     2    17.0      32    12   -17\n",
              "1     3    16.0      34    11   -19\n",
              "2     3    16.0      34    11   -19\n",
              "3     4    16.0      33    12   -18\n",
              "4     5    16.0      30    10   -14"
            ]
          },
          "metadata": {},
          "execution_count": 51
        }
      ]
    },
    {
      "cell_type": "code",
      "metadata": {
        "colab": {
          "base_uri": "https://localhost:8080/",
          "height": 173
        },
        "id": "8mte0Ijh37bo",
        "outputId": "a1741693-575b-4428-df1b-9e1c8cec7f86"
      },
      "source": [
        "dataSet6.cov()"
      ],
      "execution_count": null,
      "outputs": [
        {
          "output_type": "execute_result",
          "data": {
            "text/html": [
              "<div>\n",
              "<style scoped>\n",
              "    .dataframe tbody tr th:only-of-type {\n",
              "        vertical-align: middle;\n",
              "    }\n",
              "\n",
              "    .dataframe tbody tr th {\n",
              "        vertical-align: top;\n",
              "    }\n",
              "\n",
              "    .dataframe thead th {\n",
              "        text-align: right;\n",
              "    }\n",
              "</style>\n",
              "<table border=\"1\" class=\"dataframe\">\n",
              "  <thead>\n",
              "    <tr style=\"text-align: right;\">\n",
              "      <th></th>\n",
              "      <th>Time</th>\n",
              "      <th>E_Plug</th>\n",
              "      <th>E_Heat</th>\n",
              "      <th>Temp</th>\n",
              "    </tr>\n",
              "  </thead>\n",
              "  <tbody>\n",
              "    <tr>\n",
              "      <th>Time</th>\n",
              "      <td>48.166667</td>\n",
              "      <td>91.314229</td>\n",
              "      <td>-3.463768</td>\n",
              "      <td>7.956522</td>\n",
              "    </tr>\n",
              "    <tr>\n",
              "      <th>E_Plug</th>\n",
              "      <td>91.314229</td>\n",
              "      <td>463.513834</td>\n",
              "      <td>21.875494</td>\n",
              "      <td>0.272727</td>\n",
              "    </tr>\n",
              "    <tr>\n",
              "      <th>E_Heat</th>\n",
              "      <td>-3.463768</td>\n",
              "      <td>21.875494</td>\n",
              "      <td>51.449275</td>\n",
              "      <td>-61.565217</td>\n",
              "    </tr>\n",
              "    <tr>\n",
              "      <th>Temp</th>\n",
              "      <td>7.956522</td>\n",
              "      <td>0.272727</td>\n",
              "      <td>-61.565217</td>\n",
              "      <td>98.260870</td>\n",
              "    </tr>\n",
              "  </tbody>\n",
              "</table>\n",
              "</div>"
            ],
            "text/plain": [
              "             Time      E_Plug     E_Heat       Temp\n",
              "Time    48.166667   91.314229  -3.463768   7.956522\n",
              "E_Plug  91.314229  463.513834  21.875494   0.272727\n",
              "E_Heat  -3.463768   21.875494  51.449275 -61.565217\n",
              "Temp     7.956522    0.272727 -61.565217  98.260870"
            ]
          },
          "metadata": {},
          "execution_count": 52
        }
      ]
    },
    {
      "cell_type": "code",
      "metadata": {
        "colab": {
          "base_uri": "https://localhost:8080/",
          "height": 270
        },
        "id": "vZhVtCuJ4D3s",
        "outputId": "01061577-5da9-46be-be04-e0e915456892"
      },
      "source": [
        "import seaborn as sn\n",
        "\n",
        "sn.heatmap(dataSet6.corr())\n",
        "plt.show()"
      ],
      "execution_count": null,
      "outputs": [
        {
          "output_type": "display_data",
          "data": {
            "image/png": "[encoded data removed]",
            "text/plain": [
              "<Figure size 432x288 with 2 Axes>"
            ]
          },
          "metadata": {
            "needs_background": "light"
          }
        }
      ]
    },
    {
      "cell_type": "code",
      "metadata": {
        "colab": {
          "base_uri": "https://localhost:8080/"
        },
        "id": "0rNBzlqT4M-v",
        "outputId": "006658e2-2c46-47ce-ea37-08153ba1d319"
      },
      "source": [
        "dataSet6.info()"
      ],
      "execution_count": null,
      "outputs": [
        {
          "output_type": "stream",
          "text": [
            "<class 'pandas.core.frame.DataFrame'>\n",
            "RangeIndex: 24 entries, 0 to 23\n",
            "Data columns (total 5 columns):\n",
            " #   Column  Non-Null Count  Dtype  \n",
            "---  ------  --------------  -----  \n",
            " 0   Time    24 non-null     int64  \n",
            " 1   E_Plug  23 non-null     float64\n",
            " 2   E_Heat  24 non-null     int64  \n",
            " 3   Price   24 non-null     object \n",
            " 4   Temp    24 non-null     int64  \n",
            "dtypes: float64(1), int64(3), object(1)\n",
            "memory usage: 1.1+ KB\n"
          ],
          "name": "stdout"
        }
      ]
    },
    {
      "cell_type": "code",
      "metadata": {
        "colab": {
          "base_uri": "https://localhost:8080/",
          "height": 297
        },
        "id": "KyMLkhjd4RwA",
        "outputId": "6c7dcf75-d2f1-4cfc-9d5c-81986b94f3ad"
      },
      "source": [
        "dataSet6.describe()"
      ],
      "execution_count": null,
      "outputs": [
        {
          "output_type": "execute_result",
          "data": {
            "text/html": [
              "<div>\n",
              "<style scoped>\n",
              "    .dataframe tbody tr th:only-of-type {\n",
              "        vertical-align: middle;\n",
              "    }\n",
              "\n",
              "    .dataframe tbody tr th {\n",
              "        vertical-align: top;\n",
              "    }\n",
              "\n",
              "    .dataframe thead th {\n",
              "        text-align: right;\n",
              "    }\n",
              "</style>\n",
              "<table border=\"1\" class=\"dataframe\">\n",
              "  <thead>\n",
              "    <tr style=\"text-align: right;\">\n",
              "      <th></th>\n",
              "      <th>Time</th>\n",
              "      <th>E_Plug</th>\n",
              "      <th>E_Heat</th>\n",
              "      <th>Temp</th>\n",
              "    </tr>\n",
              "  </thead>\n",
              "  <tbody>\n",
              "    <tr>\n",
              "      <th>count</th>\n",
              "      <td>24.000000</td>\n",
              "      <td>23.000000</td>\n",
              "      <td>24.000000</td>\n",
              "      <td>24.000000</td>\n",
              "    </tr>\n",
              "    <tr>\n",
              "      <th>mean</th>\n",
              "      <td>12.583333</td>\n",
              "      <td>31.173913</td>\n",
              "      <td>26.833333</td>\n",
              "      <td>-9.500000</td>\n",
              "    </tr>\n",
              "    <tr>\n",
              "      <th>std</th>\n",
              "      <td>6.940221</td>\n",
              "      <td>21.529371</td>\n",
              "      <td>7.172815</td>\n",
              "      <td>9.912662</td>\n",
              "    </tr>\n",
              "    <tr>\n",
              "      <th>min</th>\n",
              "      <td>2.000000</td>\n",
              "      <td>16.000000</td>\n",
              "      <td>13.000000</td>\n",
              "      <td>-22.000000</td>\n",
              "    </tr>\n",
              "    <tr>\n",
              "      <th>25%</th>\n",
              "      <td>6.750000</td>\n",
              "      <td>18.000000</td>\n",
              "      <td>19.750000</td>\n",
              "      <td>-17.250000</td>\n",
              "    </tr>\n",
              "    <tr>\n",
              "      <th>50%</th>\n",
              "      <td>12.500000</td>\n",
              "      <td>27.000000</td>\n",
              "      <td>29.500000</td>\n",
              "      <td>-13.000000</td>\n",
              "    </tr>\n",
              "    <tr>\n",
              "      <th>75%</th>\n",
              "      <td>18.250000</td>\n",
              "      <td>34.500000</td>\n",
              "      <td>32.250000</td>\n",
              "      <td>0.000000</td>\n",
              "    </tr>\n",
              "    <tr>\n",
              "      <th>max</th>\n",
              "      <td>24.000000</td>\n",
              "      <td>120.000000</td>\n",
              "      <td>36.000000</td>\n",
              "      <td>18.000000</td>\n",
              "    </tr>\n",
              "  </tbody>\n",
              "</table>\n",
              "</div>"
            ],
            "text/plain": [
              "            Time      E_Plug     E_Heat       Temp\n",
              "count  24.000000   23.000000  24.000000  24.000000\n",
              "mean   12.583333   31.173913  26.833333  -9.500000\n",
              "std     6.940221   21.529371   7.172815   9.912662\n",
              "min     2.000000   16.000000  13.000000 -22.000000\n",
              "25%     6.750000   18.000000  19.750000 -17.250000\n",
              "50%    12.500000   27.000000  29.500000 -13.000000\n",
              "75%    18.250000   34.500000  32.250000   0.000000\n",
              "max    24.000000  120.000000  36.000000  18.000000"
            ]
          },
          "metadata": {},
          "execution_count": 55
        }
      ]
    },
    {
      "cell_type": "code",
      "metadata": {
        "colab": {
          "base_uri": "https://localhost:8080/"
        },
        "id": "RpzE8CpM4ijP",
        "outputId": "0be34ab3-876b-44ef-9f97-c27470a8c4b9"
      },
      "source": [
        "type(dataSet6)"
      ],
      "execution_count": null,
      "outputs": [
        {
          "output_type": "execute_result",
          "data": {
            "text/plain": [
              "pandas.core.frame.DataFrame"
            ]
          },
          "metadata": {},
          "execution_count": 56
        }
      ]
    },
    {
      "cell_type": "code",
      "metadata": {
        "id": "r2zFVb154XRK"
      },
      "source": [
        "#cleaning data\n",
        "dataSet6.replace('!', np.NaN, inplace = True)\n",
        "dataSet6 = dataSet6.apply(pd.to_numeric)\n",
        "\n",
        "#fillna method \n",
        "dataSet7 = dataSet6.fillna(method = 'ffill') \n",
        "#use bfill to fill data with the next observation "
      ],
      "execution_count": null,
      "outputs": []
    },
    {
      "cell_type": "code",
      "metadata": {
        "colab": {
          "base_uri": "https://localhost:8080/",
          "height": 204
        },
        "id": "7Jyc44sQ4viN",
        "outputId": "50494296-76d5-4b4d-f017-69318c26550e"
      },
      "source": [
        "dataSet7.head()"
      ],
      "execution_count": null,
      "outputs": [
        {
          "output_type": "execute_result",
          "data": {
            "text/html": [
              "<div>\n",
              "<style scoped>\n",
              "    .dataframe tbody tr th:only-of-type {\n",
              "        vertical-align: middle;\n",
              "    }\n",
              "\n",
              "    .dataframe tbody tr th {\n",
              "        vertical-align: top;\n",
              "    }\n",
              "\n",
              "    .dataframe thead th {\n",
              "        text-align: right;\n",
              "    }\n",
              "</style>\n",
              "<table border=\"1\" class=\"dataframe\">\n",
              "  <thead>\n",
              "    <tr style=\"text-align: right;\">\n",
              "      <th></th>\n",
              "      <th>Time</th>\n",
              "      <th>E_Plug</th>\n",
              "      <th>E_Heat</th>\n",
              "      <th>Price</th>\n",
              "      <th>Temp</th>\n",
              "    </tr>\n",
              "  </thead>\n",
              "  <tbody>\n",
              "    <tr>\n",
              "      <th>0</th>\n",
              "      <td>2</td>\n",
              "      <td>17.0</td>\n",
              "      <td>32</td>\n",
              "      <td>12.0</td>\n",
              "      <td>-17</td>\n",
              "    </tr>\n",
              "    <tr>\n",
              "      <th>1</th>\n",
              "      <td>3</td>\n",
              "      <td>16.0</td>\n",
              "      <td>34</td>\n",
              "      <td>11.0</td>\n",
              "      <td>-19</td>\n",
              "    </tr>\n",
              "    <tr>\n",
              "      <th>2</th>\n",
              "      <td>3</td>\n",
              "      <td>16.0</td>\n",
              "      <td>34</td>\n",
              "      <td>11.0</td>\n",
              "      <td>-19</td>\n",
              "    </tr>\n",
              "    <tr>\n",
              "      <th>3</th>\n",
              "      <td>4</td>\n",
              "      <td>16.0</td>\n",
              "      <td>33</td>\n",
              "      <td>12.0</td>\n",
              "      <td>-18</td>\n",
              "    </tr>\n",
              "    <tr>\n",
              "      <th>4</th>\n",
              "      <td>5</td>\n",
              "      <td>16.0</td>\n",
              "      <td>30</td>\n",
              "      <td>10.0</td>\n",
              "      <td>-14</td>\n",
              "    </tr>\n",
              "  </tbody>\n",
              "</table>\n",
              "</div>"
            ],
            "text/plain": [
              "   Time  E_Plug  E_Heat  Price  Temp\n",
              "0     2    17.0      32   12.0   -17\n",
              "1     3    16.0      34   11.0   -19\n",
              "2     3    16.0      34   11.0   -19\n",
              "3     4    16.0      33   12.0   -18\n",
              "4     5    16.0      30   10.0   -14"
            ]
          },
          "metadata": {},
          "execution_count": 58
        }
      ]
    },
    {
      "cell_type": "code",
      "metadata": {
        "id": "pmZjvjAX4tvC"
      },
      "source": [
        "#scikit-learn \n",
        "\n",
        "from sklearn.impute import SimpleImputer\n",
        "m_var = SimpleImputer(missing_values = np.nan, strategy = 'median') #mean\n",
        "m_var.fit(dataSet6)\n",
        "dataSet10 = m_var.transform(dataSet6)"
      ],
      "execution_count": null,
      "outputs": []
    },
    {
      "cell_type": "code",
      "metadata": {
        "colab": {
          "base_uri": "https://localhost:8080/"
        },
        "id": "1HW9jDCB41oo",
        "outputId": "061db825-6681-4a8f-e7e9-0bbcba0953a6"
      },
      "source": [
        "type(dataSet10)"
      ],
      "execution_count": null,
      "outputs": [
        {
          "output_type": "execute_result",
          "data": {
            "text/plain": [
              "numpy.ndarray"
            ]
          },
          "metadata": {},
          "execution_count": 60
        }
      ]
    },
    {
      "cell_type": "code",
      "metadata": {
        "colab": {
          "base_uri": "https://localhost:8080/",
          "height": 204
        },
        "id": "OhORXRq75FFH",
        "outputId": "5fb9e722-0f52-40b1-e607-82e8a57e8a7c"
      },
      "source": [
        "dataSet10 = pd.DataFrame(dataSet10, columns=['Time', 'E_Plug', 'E_Heat', 'Price',\n",
        "                                              'Temp'])\n",
        "dataSet10.head()"
      ],
      "execution_count": null,
      "outputs": [
        {
          "output_type": "execute_result",
          "data": {
            "text/html": [
              "<div>\n",
              "<style scoped>\n",
              "    .dataframe tbody tr th:only-of-type {\n",
              "        vertical-align: middle;\n",
              "    }\n",
              "\n",
              "    .dataframe tbody tr th {\n",
              "        vertical-align: top;\n",
              "    }\n",
              "\n",
              "    .dataframe thead th {\n",
              "        text-align: right;\n",
              "    }\n",
              "</style>\n",
              "<table border=\"1\" class=\"dataframe\">\n",
              "  <thead>\n",
              "    <tr style=\"text-align: right;\">\n",
              "      <th></th>\n",
              "      <th>Time</th>\n",
              "      <th>E_Plug</th>\n",
              "      <th>E_Heat</th>\n",
              "      <th>Price</th>\n",
              "      <th>Temp</th>\n",
              "    </tr>\n",
              "  </thead>\n",
              "  <tbody>\n",
              "    <tr>\n",
              "      <th>0</th>\n",
              "      <td>2.0</td>\n",
              "      <td>17.0</td>\n",
              "      <td>32.0</td>\n",
              "      <td>12.0</td>\n",
              "      <td>-17.0</td>\n",
              "    </tr>\n",
              "    <tr>\n",
              "      <th>1</th>\n",
              "      <td>3.0</td>\n",
              "      <td>16.0</td>\n",
              "      <td>34.0</td>\n",
              "      <td>11.0</td>\n",
              "      <td>-19.0</td>\n",
              "    </tr>\n",
              "    <tr>\n",
              "      <th>2</th>\n",
              "      <td>3.0</td>\n",
              "      <td>16.0</td>\n",
              "      <td>34.0</td>\n",
              "      <td>11.0</td>\n",
              "      <td>-19.0</td>\n",
              "    </tr>\n",
              "    <tr>\n",
              "      <th>3</th>\n",
              "      <td>4.0</td>\n",
              "      <td>16.0</td>\n",
              "      <td>33.0</td>\n",
              "      <td>12.0</td>\n",
              "      <td>-18.0</td>\n",
              "    </tr>\n",
              "    <tr>\n",
              "      <th>4</th>\n",
              "      <td>5.0</td>\n",
              "      <td>16.0</td>\n",
              "      <td>30.0</td>\n",
              "      <td>10.0</td>\n",
              "      <td>-14.0</td>\n",
              "    </tr>\n",
              "  </tbody>\n",
              "</table>\n",
              "</div>"
            ],
            "text/plain": [
              "   Time  E_Plug  E_Heat  Price  Temp\n",
              "0   2.0    17.0    32.0   12.0 -17.0\n",
              "1   3.0    16.0    34.0   11.0 -19.0\n",
              "2   3.0    16.0    34.0   11.0 -19.0\n",
              "3   4.0    16.0    33.0   12.0 -18.0\n",
              "4   5.0    16.0    30.0   10.0 -14.0"
            ]
          },
          "metadata": {},
          "execution_count": 61
        }
      ]
    },
    {
      "cell_type": "code",
      "metadata": {
        "colab": {
          "base_uri": "https://localhost:8080/",
          "height": 385
        },
        "id": "qdiQJ7Zo5sCx",
        "outputId": "ca358a8a-bcc6-4a21-b1ca-30730b5a8bda"
      },
      "source": [
        "\"\"\" \n",
        "Outliers detection\n",
        "\"\"\"\n",
        "# labels = ['Time', 'E_Plug', 'E_heat', 'Price', 'Temp']\n",
        "plt.figure(dpi=100)\n",
        "plt.boxplot(dataSet7)\n",
        "plt.title(\"Finding Outliers\")\n",
        "# plt.xticks([1,2,3,4,5], labels)\n",
        "plt.grid()"
      ],
      "execution_count": null,
      "outputs": [
        {
          "output_type": "display_data",
          "data": {
            "image/png": "[encoded data removed]",
            "text/plain": [
              "<Figure size 600x400 with 1 Axes>"
            ]
          },
          "metadata": {
            "needs_background": "light"
          }
        }
      ]
    },
    {
      "cell_type": "code",
      "metadata": {
        "colab": {
          "base_uri": "https://localhost:8080/"
        },
        "id": "mzfXfdkI5e_u",
        "outputId": "24fa6a55-122d-4109-e362-1a2e8e5e7f4e"
      },
      "source": [
        "q1 = dataSet7['E_Plug'].quantile(0.25)\n",
        "q3 = dataSet7['E_Plug'].quantile(0.75)\n",
        "\n",
        "\n",
        "IQR = q3 - q1\n",
        "\n",
        "#mild outlier \n",
        "lower_bound = q1-(1.5*IQR)\n",
        "upper_bound = q3+(1.5*IQR)\n",
        "\n",
        "print(f\"Mild Outliers are {lower_bound} to {upper_bound}\")\n",
        "\n",
        "#extreme outliers \n",
        "\n",
        "lower_bound_ext = q1-(3*IQR)\n",
        "upper_bound_ext = q3+(3*IQR)\n",
        "\n",
        "print(f\"Mild Outliers are {lower_bound_ext} to {upper_bound_ext}\")"
      ],
      "execution_count": null,
      "outputs": [
        {
          "output_type": "stream",
          "text": [
            "Mild Outliers are -4.375 to 56.625\n",
            "Mild Outliers are -27.25 to 79.5\n"
          ],
          "name": "stdout"
        }
      ]
    },
    {
      "cell_type": "code",
      "metadata": {
        "colab": {
          "base_uri": "https://localhost:8080/",
          "height": 204
        },
        "id": "ViC2FTp56pcO",
        "outputId": "2449206c-26ec-448f-ecf5-2cf0757932be"
      },
      "source": [
        "#concatenation\n",
        "new_col = pd.read_csv('Data_New.csv')\n",
        "\n",
        "dataSet10 = pd.concat([dataSet7, new_col], axis = 1)\n",
        "dataSet10.head()"
      ],
      "execution_count": null,
      "outputs": [
        {
          "output_type": "execute_result",
          "data": {
            "text/html": [
              "<div>\n",
              "<style scoped>\n",
              "    .dataframe tbody tr th:only-of-type {\n",
              "        vertical-align: middle;\n",
              "    }\n",
              "\n",
              "    .dataframe tbody tr th {\n",
              "        vertical-align: top;\n",
              "    }\n",
              "\n",
              "    .dataframe thead th {\n",
              "        text-align: right;\n",
              "    }\n",
              "</style>\n",
              "<table border=\"1\" class=\"dataframe\">\n",
              "  <thead>\n",
              "    <tr style=\"text-align: right;\">\n",
              "      <th></th>\n",
              "      <th>Time</th>\n",
              "      <th>E_Plug</th>\n",
              "      <th>E_Heat</th>\n",
              "      <th>Price</th>\n",
              "      <th>Temp</th>\n",
              "      <th>P/OffP</th>\n",
              "    </tr>\n",
              "  </thead>\n",
              "  <tbody>\n",
              "    <tr>\n",
              "      <th>0</th>\n",
              "      <td>2</td>\n",
              "      <td>17.0</td>\n",
              "      <td>32</td>\n",
              "      <td>12.0</td>\n",
              "      <td>-17</td>\n",
              "      <td>OffPeak</td>\n",
              "    </tr>\n",
              "    <tr>\n",
              "      <th>1</th>\n",
              "      <td>3</td>\n",
              "      <td>16.0</td>\n",
              "      <td>34</td>\n",
              "      <td>11.0</td>\n",
              "      <td>-19</td>\n",
              "      <td>OffPeak</td>\n",
              "    </tr>\n",
              "    <tr>\n",
              "      <th>2</th>\n",
              "      <td>3</td>\n",
              "      <td>16.0</td>\n",
              "      <td>34</td>\n",
              "      <td>11.0</td>\n",
              "      <td>-19</td>\n",
              "      <td>OffPeak</td>\n",
              "    </tr>\n",
              "    <tr>\n",
              "      <th>3</th>\n",
              "      <td>4</td>\n",
              "      <td>16.0</td>\n",
              "      <td>33</td>\n",
              "      <td>12.0</td>\n",
              "      <td>-18</td>\n",
              "      <td>OffPeak</td>\n",
              "    </tr>\n",
              "    <tr>\n",
              "      <th>4</th>\n",
              "      <td>5</td>\n",
              "      <td>16.0</td>\n",
              "      <td>30</td>\n",
              "      <td>10.0</td>\n",
              "      <td>-14</td>\n",
              "      <td>OffPeak</td>\n",
              "    </tr>\n",
              "  </tbody>\n",
              "</table>\n",
              "</div>"
            ],
            "text/plain": [
              "   Time  E_Plug  E_Heat  Price  Temp  P/OffP \n",
              "0     2    17.0      32   12.0   -17  OffPeak\n",
              "1     3    16.0      34   11.0   -19  OffPeak\n",
              "2     3    16.0      34   11.0   -19  OffPeak\n",
              "3     4    16.0      33   12.0   -18  OffPeak\n",
              "4     5    16.0      30   10.0   -14  OffPeak"
            ]
          },
          "metadata": {},
          "execution_count": 64
        }
      ]
    },
    {
      "cell_type": "code",
      "metadata": {
        "colab": {
          "base_uri": "https://localhost:8080/"
        },
        "id": "k_JPf0z56quZ",
        "outputId": "8dad2adc-f760-4bf5-a6ae-928433f5809f"
      },
      "source": [
        "#dummy coding \n",
        "dataSet10.info()\n",
        "\n",
        "dataSet11 = pd.get_dummies(dataSet10)"
      ],
      "execution_count": null,
      "outputs": [
        {
          "output_type": "stream",
          "text": [
            "<class 'pandas.core.frame.DataFrame'>\n",
            "RangeIndex: 24 entries, 0 to 23\n",
            "Data columns (total 6 columns):\n",
            " #   Column   Non-Null Count  Dtype  \n",
            "---  ------   --------------  -----  \n",
            " 0   Time     24 non-null     int64  \n",
            " 1   E_Plug   24 non-null     float64\n",
            " 2   E_Heat   24 non-null     int64  \n",
            " 3   Price    24 non-null     float64\n",
            " 4   Temp     24 non-null     int64  \n",
            " 5   P/OffP   24 non-null     object \n",
            "dtypes: float64(2), int64(3), object(1)\n",
            "memory usage: 1.2+ KB\n"
          ],
          "name": "stdout"
        }
      ]
    },
    {
      "cell_type": "code",
      "metadata": {
        "colab": {
          "base_uri": "https://localhost:8080/",
          "height": 204
        },
        "id": "eMhLLx3Q61lv",
        "outputId": "9cb08993-0f7a-4d13-c367-53b5bddee0fa"
      },
      "source": [
        "dataSet11.head()"
      ],
      "execution_count": null,
      "outputs": [
        {
          "output_type": "execute_result",
          "data": {
            "text/html": [
              "<div>\n",
              "<style scoped>\n",
              "    .dataframe tbody tr th:only-of-type {\n",
              "        vertical-align: middle;\n",
              "    }\n",
              "\n",
              "    .dataframe tbody tr th {\n",
              "        vertical-align: top;\n",
              "    }\n",
              "\n",
              "    .dataframe thead th {\n",
              "        text-align: right;\n",
              "    }\n",
              "</style>\n",
              "<table border=\"1\" class=\"dataframe\">\n",
              "  <thead>\n",
              "    <tr style=\"text-align: right;\">\n",
              "      <th></th>\n",
              "      <th>Time</th>\n",
              "      <th>E_Plug</th>\n",
              "      <th>E_Heat</th>\n",
              "      <th>Price</th>\n",
              "      <th>Temp</th>\n",
              "      <th>P/OffP _OffPeak</th>\n",
              "      <th>P/OffP _Peak</th>\n",
              "    </tr>\n",
              "  </thead>\n",
              "  <tbody>\n",
              "    <tr>\n",
              "      <th>0</th>\n",
              "      <td>2</td>\n",
              "      <td>17.0</td>\n",
              "      <td>32</td>\n",
              "      <td>12.0</td>\n",
              "      <td>-17</td>\n",
              "      <td>1</td>\n",
              "      <td>0</td>\n",
              "    </tr>\n",
              "    <tr>\n",
              "      <th>1</th>\n",
              "      <td>3</td>\n",
              "      <td>16.0</td>\n",
              "      <td>34</td>\n",
              "      <td>11.0</td>\n",
              "      <td>-19</td>\n",
              "      <td>1</td>\n",
              "      <td>0</td>\n",
              "    </tr>\n",
              "    <tr>\n",
              "      <th>2</th>\n",
              "      <td>3</td>\n",
              "      <td>16.0</td>\n",
              "      <td>34</td>\n",
              "      <td>11.0</td>\n",
              "      <td>-19</td>\n",
              "      <td>1</td>\n",
              "      <td>0</td>\n",
              "    </tr>\n",
              "    <tr>\n",
              "      <th>3</th>\n",
              "      <td>4</td>\n",
              "      <td>16.0</td>\n",
              "      <td>33</td>\n",
              "      <td>12.0</td>\n",
              "      <td>-18</td>\n",
              "      <td>1</td>\n",
              "      <td>0</td>\n",
              "    </tr>\n",
              "    <tr>\n",
              "      <th>4</th>\n",
              "      <td>5</td>\n",
              "      <td>16.0</td>\n",
              "      <td>30</td>\n",
              "      <td>10.0</td>\n",
              "      <td>-14</td>\n",
              "      <td>1</td>\n",
              "      <td>0</td>\n",
              "    </tr>\n",
              "  </tbody>\n",
              "</table>\n",
              "</div>"
            ],
            "text/plain": [
              "   Time  E_Plug  E_Heat  Price  Temp  P/OffP _OffPeak  P/OffP _Peak\n",
              "0     2    17.0      32   12.0   -17                1             0\n",
              "1     3    16.0      34   11.0   -19                1             0\n",
              "2     3    16.0      34   11.0   -19                1             0\n",
              "3     4    16.0      33   12.0   -18                1             0\n",
              "4     5    16.0      30   10.0   -14                1             0"
            ]
          },
          "metadata": {},
          "execution_count": 66
        }
      ]
    },
    {
      "cell_type": "code",
      "metadata": {
        "colab": {
          "base_uri": "https://localhost:8080/",
          "height": 204
        },
        "id": "Rtl5tYVm2Jmh",
        "outputId": "147518ef-d022-4987-bc6c-1c0f5c683751"
      },
      "source": [
        "\"\"\"\n",
        "Normalization\n",
        "\"\"\"\n",
        "from sklearn.preprocessing import minmax_scale, normalize \n",
        "\n",
        "#can be used any of this method for normalization\n",
        "dataSet12 = minmax_scale(dataSet11, feature_range=(0,1))\n",
        "dataSet13 = normalize(dataSet11, norm = 'l2', axis = 0)\n",
        "\n",
        "dataSet13 = pd.DataFrame(dataSet13, columns =['Time', 'E_Plug', 'E_Heat', 'Price',\n",
        "                                              'Temp', 'OffPeak', 'Peak'])\n",
        "\n",
        "dataSet13.head()\n",
        "\n",
        "# axis0 or 1, optional (1 by default)\n",
        "# axis used to normalize the data along. \n",
        "# If 1, independently normalize each sample, otherwise \n",
        "# (if 0) normalize each feature.\n"
      ],
      "execution_count": null,
      "outputs": [
        {
          "output_type": "execute_result",
          "data": {
            "text/html": [
              "<div>\n",
              "<style scoped>\n",
              "    .dataframe tbody tr th:only-of-type {\n",
              "        vertical-align: middle;\n",
              "    }\n",
              "\n",
              "    .dataframe tbody tr th {\n",
              "        vertical-align: top;\n",
              "    }\n",
              "\n",
              "    .dataframe thead th {\n",
              "        text-align: right;\n",
              "    }\n",
              "</style>\n",
              "<table border=\"1\" class=\"dataframe\">\n",
              "  <thead>\n",
              "    <tr style=\"text-align: right;\">\n",
              "      <th></th>\n",
              "      <th>Time</th>\n",
              "      <th>E_Plug</th>\n",
              "      <th>E_Heat</th>\n",
              "      <th>Price</th>\n",
              "      <th>Temp</th>\n",
              "      <th>OffPeak</th>\n",
              "      <th>Peak</th>\n",
              "    </tr>\n",
              "  </thead>\n",
              "  <tbody>\n",
              "    <tr>\n",
              "      <th>0</th>\n",
              "      <td>0.028548</td>\n",
              "      <td>0.092952</td>\n",
              "      <td>0.235498</td>\n",
              "      <td>0.150899</td>\n",
              "      <td>-0.255531</td>\n",
              "      <td>0.25</td>\n",
              "      <td>0.0</td>\n",
              "    </tr>\n",
              "    <tr>\n",
              "      <th>1</th>\n",
              "      <td>0.042822</td>\n",
              "      <td>0.087484</td>\n",
              "      <td>0.250217</td>\n",
              "      <td>0.138324</td>\n",
              "      <td>-0.285593</td>\n",
              "      <td>0.25</td>\n",
              "      <td>0.0</td>\n",
              "    </tr>\n",
              "    <tr>\n",
              "      <th>2</th>\n",
              "      <td>0.042822</td>\n",
              "      <td>0.087484</td>\n",
              "      <td>0.250217</td>\n",
              "      <td>0.138324</td>\n",
              "      <td>-0.285593</td>\n",
              "      <td>0.25</td>\n",
              "      <td>0.0</td>\n",
              "    </tr>\n",
              "    <tr>\n",
              "      <th>3</th>\n",
              "      <td>0.057096</td>\n",
              "      <td>0.087484</td>\n",
              "      <td>0.242857</td>\n",
              "      <td>0.150899</td>\n",
              "      <td>-0.270562</td>\n",
              "      <td>0.25</td>\n",
              "      <td>0.0</td>\n",
              "    </tr>\n",
              "    <tr>\n",
              "      <th>4</th>\n",
              "      <td>0.071370</td>\n",
              "      <td>0.087484</td>\n",
              "      <td>0.220779</td>\n",
              "      <td>0.125749</td>\n",
              "      <td>-0.210437</td>\n",
              "      <td>0.25</td>\n",
              "      <td>0.0</td>\n",
              "    </tr>\n",
              "  </tbody>\n",
              "</table>\n",
              "</div>"
            ],
            "text/plain": [
              "       Time    E_Plug    E_Heat     Price      Temp  OffPeak  Peak\n",
              "0  0.028548  0.092952  0.235498  0.150899 -0.255531     0.25   0.0\n",
              "1  0.042822  0.087484  0.250217  0.138324 -0.285593     0.25   0.0\n",
              "2  0.042822  0.087484  0.250217  0.138324 -0.285593     0.25   0.0\n",
              "3  0.057096  0.087484  0.242857  0.150899 -0.270562     0.25   0.0\n",
              "4  0.071370  0.087484  0.220779  0.125749 -0.210437     0.25   0.0"
            ]
          },
          "metadata": {},
          "execution_count": 67
        }
      ]
    }
  ]
}
